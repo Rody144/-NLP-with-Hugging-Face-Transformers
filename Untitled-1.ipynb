{
 "cells": [
  {
   "cell_type": "code",
   "execution_count": 1,
   "id": "57689283",
   "metadata": {},
   "outputs": [
    {
     "name": "stderr",
     "output_type": "stream",
     "text": [
      "2025-07-05 23:42:01.171 \n",
      "  \u001b[33m\u001b[1mWarning:\u001b[0m to view this Streamlit app on a browser, run it with the following\n",
      "  command:\n",
      "\n",
      "    streamlit run c:\\Users\\ehabs\\anaconda3\\Lib\\site-packages\\ipykernel_launcher.py [ARGUMENTS]\n",
      "2025-07-05 23:42:01.172 Session state does not function when running a script without `streamlit run`\n",
      "No model was supplied, defaulted to distilbert/distilbert-base-uncased-finetuned-sst-2-english and revision 714eb0f (https://huggingface.co/distilbert/distilbert-base-uncased-finetuned-sst-2-english).\n",
      "Using a pipeline without specifying a model name and revision in production is not recommended.\n"
     ]
    },
    {
     "name": "stdout",
     "output_type": "stream",
     "text": [
      "WARNING:tensorflow:From c:\\Users\\ehabs\\anaconda3\\Lib\\site-packages\\tf_keras\\src\\losses.py:2976: The name tf.losses.sparse_softmax_cross_entropy is deprecated. Please use tf.compat.v1.losses.sparse_softmax_cross_entropy instead.\n",
      "\n"
     ]
    },
    {
     "name": "stderr",
     "output_type": "stream",
     "text": [
      "Device set to use cpu\n"
     ]
    }
   ],
   "source": [
    "import streamlit as st\n",
    "from transformers import pipeline\n",
    "import torch\n",
    "\n",
    "# --- Page Setup ---\n",
    "st.set_page_config(page_title=\"🧠 NLP Playground\", layout=\"wide\")\n",
    "st.title(\"🧠 NLP with Hugging Face Transformers\")\n",
    "st.markdown(\"\"\"\n",
    "Welcome! This app lets you explore powerful NLP models from Hugging Face 🤗.\n",
    "\n",
    "Choose a task below, enter your text, and see the results instantly!\n",
    "\"\"\")\n",
    "\n",
    "# --- Task Selector ---\n",
    "task = st.selectbox(\"Select a task\", [\n",
    "    \"Sentiment Analysis\", \"Text Summarization\", \"Named Entity Recognition\"\n",
    "])\n",
    "\n",
    "# --- Load Model Based on Task ---\n",
    "@st.cache_resource\n",
    "def load_pipeline(task_name):\n",
    "    if task_name == \"Sentiment Analysis\":\n",
    "        return pipeline(\"sentiment-analysis\")\n",
    "    elif task_name == \"Text Summarization\":\n",
    "        return pipeline(\"summarization\")\n",
    "    elif task_name == \"Named Entity Recognition\":\n",
    "        return pipeline(\"ner\", grouped_entities=True)\n",
    "\n",
    "nlp_pipeline = load_pipeline(task)\n",
    "\n",
    "# --- User Input ---\n",
    "text_input = st.text_area(\"Enter your text here:\", height=200)\n",
    "\n",
    "# --- File Uploader (Bonus) ---\n",
    "uploaded_file = st.file_uploader(\"Or upload a .txt file for batch processing\", type=\"txt\")\n",
    "\n",
    "# --- Run Prediction ---\n",
    "if st.button(\"Run\"):\n",
    "    if uploaded_file:\n",
    "        text_input = uploaded_file.read().decode(\"utf-8\")\n",
    "\n",
    "    if not text_input.strip():\n",
    "        st.warning(\"Please enter or upload some text.\")\n",
    "    else:\n",
    "        st.subheader(\"🧪 Results\")\n",
    "        with st.spinner(\"Processing...\"):\n",
    "            result = nlp_pipeline(text_input)\n",
    "\n",
    "        if task == \"Sentiment Analysis\":\n",
    "            for res in result:\n",
    "                st.write(f\"**Label**: {res['label']} | **Confidence**: {res['score']:.2f}\")\n",
    "        elif task == \"Text Summarization\":\n",
    "            st.write(result[0]['summary_text'])\n",
    "        elif task == \"Named Entity Recognition\":\n",
    "            for entity in result:\n",
    "                st.write(f\"**{entity['entity_group']}**: {entity['word']} (score: {entity['score']:.2f})\")"
   ]
  }
 ],
 "metadata": {
  "kernelspec": {
   "display_name": "base",
   "language": "python",
   "name": "python3"
  },
  "language_info": {
   "codemirror_mode": {
    "name": "ipython",
    "version": 3
   },
   "file_extension": ".py",
   "mimetype": "text/x-python",
   "name": "python",
   "nbconvert_exporter": "python",
   "pygments_lexer": "ipython3",
   "version": "3.12.7"
  }
 },
 "nbformat": 4,
 "nbformat_minor": 5
}
